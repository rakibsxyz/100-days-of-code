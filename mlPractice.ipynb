{
  "nbformat": 4,
  "nbformat_minor": 0,
  "metadata": {
    "colab": {
      "name": "mlPractice.ipynb",
      "provenance": [],
      "mount_file_id": "1JpxP9WRFbzCi4Kbwxrs4a_MYsO3mwpXC",
      "authorship_tag": "ABX9TyMH3wexo8SZrM1lwQ+F3w3G",
      "include_colab_link": true
    },
    "kernelspec": {
      "name": "python3",
      "display_name": "Python 3"
    }
  },
  "cells": [
    {
      "cell_type": "markdown",
      "metadata": {
        "id": "view-in-github",
        "colab_type": "text"
      },
      "source": [
        "<a href=\"https://colab.research.google.com/github/rakibsxyz/100-days-of-code/blob/master/mlPractice.ipynb\" target=\"_parent\"><img src=\"https://colab.research.google.com/assets/colab-badge.svg\" alt=\"Open In Colab\"/></a>"
      ]
    },
    {
      "cell_type": "code",
      "metadata": {
        "id": "M1DSUgt9RMRF"
      },
      "source": [
        "import pandas\r\n",
        "from keras.models import Sequential\r\n",
        "from keras.layers import Dense\r\n",
        "from keras.wrappers.scikit_learn import KerasRegressor\r\n",
        "from sklearn.model_selection import cross_val_score\r\n",
        "from sklearn.model_selection import KFold\r\n",
        "from sklearn.preprocessing import StandardScaler\r\n",
        "from sklearn.pipeline import Pipeline"
      ],
      "execution_count": 8,
      "outputs": []
    },
    {
      "cell_type": "code",
      "metadata": {
        "id": "tl5YJDobUcQr"
      },
      "source": [
        "dataframe = pandas.read_csv(\"housing.csv\", delim_whitespace=True, header=None)\r\n",
        "dataset = dataframe.values\r\n",
        "# split into input (X) and output (Y) variables\r\n",
        "X = dataset[:,0:13]\r\n",
        "Y = dataset[:,13]"
      ],
      "execution_count": 9,
      "outputs": []
    },
    {
      "cell_type": "code",
      "metadata": {
        "id": "RAoQTAIqUkK6"
      },
      "source": [
        "def baseline_model():\r\n",
        " # create model\r\n",
        " model = Sequential()\r\n",
        " model.add(Dense(13, input_dim=13, kernel_initializer='normal', activation='relu'))\r\n",
        " model.add(Dense(1, kernel_initializer='normal'))\r\n",
        " # Compile model\r\n",
        " model.compile(loss='mean_squared_error', optimizer='adam')\r\n",
        " return model"
      ],
      "execution_count": 10,
      "outputs": []
    },
    {
      "cell_type": "code",
      "metadata": {
        "colab": {
          "base_uri": "https://localhost:8080/"
        },
        "id": "M6WXBurcUpCj",
        "outputId": "bb4559ef-ca6c-4d50-95b8-edae965fa44f"
      },
      "source": [
        "estimator = KerasRegressor(build_fn=baseline_model, epochs=100, batch_size=5, verbose=0)\r\n",
        "kfold = KFold(n_splits=10)\r\n",
        "results = cross_val_score(estimator, X, Y, cv=kfold)\r\n",
        "print(\"Baseline: %.2f (%.2f) MSE\" % (results.mean(), results.std()))"
      ],
      "execution_count": 12,
      "outputs": [
        {
          "output_type": "stream",
          "text": [
            "Baseline: -32.57 (25.79) MSE\n"
          ],
          "name": "stdout"
        }
      ]
    }
  ]
}