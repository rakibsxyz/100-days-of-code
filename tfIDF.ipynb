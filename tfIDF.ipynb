{
  "nbformat": 4,
  "nbformat_minor": 0,
  "metadata": {
    "colab": {
      "name": "tfIDF.ipynb",
      "provenance": [],
      "collapsed_sections": [],
      "authorship_tag": "ABX9TyOuZSL3zpnj5NDO65TJCdHY",
      "include_colab_link": true
    },
    "kernelspec": {
      "name": "python3",
      "display_name": "Python 3"
    }
  },
  "cells": [
    {
      "cell_type": "markdown",
      "metadata": {
        "id": "view-in-github",
        "colab_type": "text"
      },
      "source": [
        "<a href=\"https://colab.research.google.com/github/rakibsxyz/100-days-of-code/blob/master/tfIDF.ipynb\" target=\"_parent\"><img src=\"https://colab.research.google.com/assets/colab-badge.svg\" alt=\"Open In Colab\"/></a>"
      ]
    },
    {
      "cell_type": "code",
      "metadata": {
        "id": "fYtg3M-xvb4W"
      },
      "source": [
        "import pandas as pd\r\n",
        "from sklearn.feature_extraction.text import TfidfVectorizer\r\n",
        "!pip install texthero\r\n"
      ],
      "execution_count": null,
      "outputs": []
    },
    {
      "cell_type": "code",
      "metadata": {
        "colab": {
          "base_uri": "https://localhost:8080/"
        },
        "id": "2tG687kizIxi",
        "outputId": "703cfad8-9ec3-4fa4-87bb-1d9de89b8339"
      },
      "source": [
        "import texthero as hero"
      ],
      "execution_count": 15,
      "outputs": [
        {
          "output_type": "stream",
          "text": [
            "[nltk_data] Downloading package stopwords to /root/nltk_data...\n",
            "[nltk_data]   Unzipping corpora/stopwords.zip.\n"
          ],
          "name": "stderr"
        }
      ]
    },
    {
      "cell_type": "code",
      "metadata": {
        "id": "iq41DIOBv_7w"
      },
      "source": [
        "data = pd.read_csv(\"shortData.csv\")"
      ],
      "execution_count": 27,
      "outputs": []
    },
    {
      "cell_type": "code",
      "metadata": {
        "id": "6crYqhdKwyIK"
      },
      "source": [
        "MethodData = data.iloc[:0]"
      ],
      "execution_count": 28,
      "outputs": []
    },
    {
      "cell_type": "markdown",
      "metadata": {
        "id": "Mm2NCepq3HMa"
      },
      "source": [
        ""
      ]
    },
    {
      "cell_type": "code",
      "metadata": {
        "id": "7Gwp2Jz5xoT6"
      },
      "source": [
        "v = TfidfVectorizer()\r\n",
        "x = v.fit_transform(data[\"method\"])"
      ],
      "execution_count": 36,
      "outputs": []
    },
    {
      "cell_type": "code",
      "metadata": {
        "id": "8MKWPH7Rx-Cw"
      },
      "source": [
        "data[\"tf\"] = x.toarray()"
      ],
      "execution_count": 43,
      "outputs": []
    },
    {
      "cell_type": "code",
      "metadata": {
        "id": "jTyAJyrPyU5d"
      },
      "source": [
        "data[\"tf\"].head"
      ],
      "execution_count": null,
      "outputs": []
    },
    {
      "cell_type": "code",
      "metadata": {
        "colab": {
          "base_uri": "https://localhost:8080/"
        },
        "id": "YsyfPpkw12g-",
        "outputId": "5bc45e89-94a3-4f08-e87f-4f224292b9b3"
      },
      "source": [
        "data.shape"
      ],
      "execution_count": 42,
      "outputs": [
        {
          "output_type": "execute_result",
          "data": {
            "text/plain": [
              "(33, 3)"
            ]
          },
          "metadata": {
            "tags": []
          },
          "execution_count": 42
        }
      ]
    },
    {
      "cell_type": "code",
      "metadata": {
        "id": "scY1xUpd3SWn"
      },
      "source": [
        "from scipy import spatial"
      ],
      "execution_count": 45,
      "outputs": []
    },
    {
      "cell_type": "code",
      "metadata": {
        "id": "CYvfBWUI3YKO"
      },
      "source": [
        "result = 1 - spatial.distance.cosine(data[\"callTime\"], data[\"tf\"])"
      ],
      "execution_count": 46,
      "outputs": []
    },
    {
      "cell_type": "code",
      "metadata": {
        "colab": {
          "base_uri": "https://localhost:8080/"
        },
        "id": "WZ0cujcM3gFo",
        "outputId": "f13f7c1f-96e6-486a-f46a-7b57e26791ee"
      },
      "source": [
        "print(result)"
      ],
      "execution_count": 47,
      "outputs": [
        {
          "output_type": "stream",
          "text": [
            "0.6238471670640428\n"
          ],
          "name": "stdout"
        }
      ]
    },
    {
      "cell_type": "code",
      "metadata": {
        "id": "YmFnb8k531kv"
      },
      "source": [
        "x = data[\"callTime\"]\r\n",
        "y = data[\"tf\"]"
      ],
      "execution_count": 48,
      "outputs": []
    },
    {
      "cell_type": "code",
      "metadata": {
        "id": "sr_RAcXW4NMc"
      },
      "source": [
        "import numpy as np\r\n",
        "X = np.vstack((x, y)).T\r\n"
      ],
      "execution_count": 49,
      "outputs": []
    },
    {
      "cell_type": "code",
      "metadata": {
        "id": "291OVn7N4Vil"
      },
      "source": [
        "print(X)"
      ],
      "execution_count": null,
      "outputs": []
    },
    {
      "cell_type": "code",
      "metadata": {
        "colab": {
          "base_uri": "https://localhost:8080/",
          "height": 279
        },
        "id": "TWwDNsUp4chW",
        "outputId": "e7998cf6-285e-410e-acb5-6cc8a505f2fb"
      },
      "source": [
        "import matplotlib.pyplot as plt\r\n",
        "plt.xlabel(\"callTime\")\r\n",
        "plt.ylabel(\"Tf\")\r\n",
        "plt.scatter(x, y, color='#76c2b4')\r\n",
        "plt.show()"
      ],
      "execution_count": 52,
      "outputs": [
        {
          "output_type": "display_data",
          "data": {
            "image/png": "[encoded data removed]",
            "text/plain": [
              "<Figure size 432x288 with 1 Axes>"
            ]
          },
          "metadata": {
            "tags": [],
            "needs_background": "light"
          }
        }
      ]
    },
    {
      "cell_type": "code",
      "metadata": {
        "id": "3n0pGQTK4rvz"
      },
      "source": [
        "def find_clusters(X, n_clusters, rseed=2):\r\n",
        "    # 1. Randomly choose clusters\r\n",
        "    rng = np.random.RandomState(rseed)\r\n",
        "    i = rng.permutation(X.shape[0])[:n_clusters]\r\n",
        "    centers = X[i]\r\n",
        "\r\n",
        "    # The main loop\r\n",
        "    # This loop continues until convergence.\r\n",
        "    # You could make it run a set number of times by changing\r\n",
        "    # it to say while x > 5, for example, and removing the break\r\n",
        "    print(\"\\nConverging centres:\")\r\n",
        "    while True:\r\n",
        "        # 2a. Assign labels based on closest center\r\n",
        "        # I am using the pairwise_distances_argmin method to\r\n",
        "        # calculate distances between points to centres\r\n",
        "        labels = pairwise_distances_argmin(X, centers)\r\n",
        "\r\n",
        "        # 2b. Find new centers from means of points\r\n",
        "        new_centers = np.array([X[labels == i].mean(0) for i in\r\n",
        "        range(n_clusters)])\r\n",
        "\r\n",
        "        # 2c. Check for convergence\r\n",
        "        if np.all(centers == new_centers):\r\n",
        "            break\r\n",
        "        centers = new_centers\r\n",
        "\r\n",
        "        # Print converging centres\r\n",
        "        print(centers)\r\n",
        "        print()\r\n",
        "\r\n",
        "    return centers, labels"
      ],
      "execution_count": 53,
      "outputs": []
    },
    {
      "cell_type": "code",
      "metadata": {
        "id": "wbEP0PoY42pS"
      },
      "source": [
        "clust_num = 3\r\n",
        "from sklearn.metrics import pairwise_distances_argmin\r\n",
        "from collections import Counter, defaultdict"
      ],
      "execution_count": 56,
      "outputs": []
    },
    {
      "cell_type": "code",
      "metadata": {
        "id": "mUAJ4Yqh449c"
      },
      "source": [
        "centers, labels = find_clusters(X, clust_num)"
      ],
      "execution_count": null,
      "outputs": []
    },
    {
      "cell_type": "code",
      "metadata": {
        "colab": {
          "base_uri": "https://localhost:8080/",
          "height": 295
        },
        "id": "hVQMefQW5SEd",
        "outputId": "34851512-6777-4f3d-dc20-3a675ea66718"
      },
      "source": [
        "plt.scatter(X[:, 0], X[:, 1], c=labels, s=50, cmap='viridis')\r\n",
        "plt.title('K-Means clustering of countries by birth rate vs life expectancy')\r\n",
        "plt.xlabel(\"uff\")\r\n",
        "plt.ylabel(\"bal\")\r\n",
        "plt.show()"
      ],
      "execution_count": 58,
      "outputs": [
        {
          "output_type": "display_data",
          "data": {
            "image/png": "[encoded data removed]",
            "text/plain": [
              "<Figure size 432x288 with 1 Axes>"
            ]
          },
          "metadata": {
            "tags": [],
            "needs_background": "light"
          }
        }
      ]
    },
    {
      "cell_type": "code",
      "metadata": {
        "colab": {
          "base_uri": "https://localhost:8080/"
        },
        "id": "F4Pkxd4e5qeN",
        "outputId": "3996bc8e-6d9e-4dd4-8e32-731e94a526f8"
      },
      "source": [
        "print(\"\\nNumber of countries in each cluster:\")\r\n",
        "print(Counter(labels))"
      ],
      "execution_count": 59,
      "outputs": [
        {
          "output_type": "stream",
          "text": [
            "\n",
            "Number of countries in each cluster:\n",
            "Counter({0: 19, 2: 8, 1: 6})\n"
          ],
          "name": "stdout"
        }
      ]
    },
    {
      "cell_type": "code",
      "metadata": {
        "id": "NSe5M69V5w_2"
      },
      "source": [
        "# Get cluster indices\r\n",
        "clusters_indices = defaultdict(list)\r\n",
        "for index, c in enumerate(labels):\r\n",
        "    clusters_indices[c].append(index)\r\n"
      ],
      "execution_count": 60,
      "outputs": []
    },
    {
      "cell_type": "code",
      "metadata": {
        "colab": {
          "base_uri": "https://localhost:8080/"
        },
        "id": "3YoVzYoO52_I",
        "outputId": "bc6691c3-43b0-4e44-90c0-9d17297699b8"
      },
      "source": [
        "x = 0\r\n",
        "method= data[\"method\"]\r\n",
        "while x < clust_num:\r\n",
        "    print(\"\\nCluster \" + str(x + 1))\r\n",
        "    print(\"----------\")\r\n",
        "    for i in clusters_indices[x]:\r\n",
        "        print(method[i])\r\n",
        "    print(\"----------\")\r\n",
        "    print(\"Mean callTime:\")\r\n",
        "    print(centers[x][0])\r\n",
        "    print(\"Mean TF:\")\r\n",
        "    print(centers[x][1])\r\n",
        "    x+=1"
      ],
      "execution_count": 62,
      "outputs": [
        {
          "output_type": "stream",
          "text": [
            "\n",
            "Cluster 1\n",
            "----------\n",
            "android.os.Handler#dispatchMessage android.os.Handler#handleCallback androidx.fragment.app.m$d#run androidx.fragment.app.m#Q androidx.fragment.app.m#L0 androidx.fragment.app.m#T androidx.fragment.app.m#S androidx.fragment.app.a#A androidx.fragment.app.m#z0 androidx.fragment.app.m#y0 androidx.fragment.app.m#A0 androidx.fragment.app.m#B0 androidx.fragment.app.r#r androidx.fragment.app.Fragment#W1 androidx.fragment.app.c#x1 android.app.Dialog#show android.app.Dialog#dispatchOnCreate androidx.appcompat.app.d#onCreate androidx.appcompat.app.AlertController#f androidx.appcompat.app.i#setContentView androidx.appcompat.app.h#D android.view.LayoutInflater#inflate android.view.LayoutInflater#inflate android.view.LayoutInflater#inflate android.view.LayoutInflater#rInflateChildren android.view.LayoutInflater#rInflate android.view.LayoutInflater#rInflateChildren android.view.LayoutInflater#rInflate android.view.LayoutInflater#rInflateChildren android.view.LayoutInflater#rInflate android.view.LayoutInflater#createViewFromTag android.view.LayoutInflater#createViewFromTag android.view.LayoutInflater#onCreateView com.android.internal.policy.PhoneLayoutInflater#onCreateView android.view.LayoutInflater#createView java.lang.reflect.Constructor#newInstance java.lang.reflect.Constructor#newInstance0 android.widget.LinearLayout#<init> android.widget.LinearLayout#<init> android.widget.LinearLayout#<init> android.content.res.TypedArray#getBoolean \n",
            "android.os.Handler#dispatchMessage android.os.Handler#handleCallback androidx.fragment.app.m$d#run androidx.fragment.app.m#Q androidx.fragment.app.m#L0 androidx.fragment.app.m#T androidx.fragment.app.m#S androidx.fragment.app.a#A androidx.fragment.app.m#z0 androidx.fragment.app.m#y0 androidx.fragment.app.m#A0 androidx.fragment.app.m#B0 androidx.fragment.app.r#r androidx.fragment.app.Fragment#W1 androidx.fragment.app.c#x1 android.app.Dialog#show android.app.Dialog#dispatchOnCreate androidx.appcompat.app.d#onCreate androidx.appcompat.app.AlertController#f androidx.appcompat.app.i#setContentView androidx.appcompat.app.h#D androidx.appcompat.app.h#Z androidx.appcompat.app.h#T android.view.LayoutInflater#inflate android.view.LayoutInflater#inflate android.view.LayoutInflater#inflate android.view.LayoutInflater#rInflateChildren android.view.LayoutInflater#rInflate android.view.LayoutInflater#createViewFromTag android.view.LayoutInflater#createViewFromTag android.view.LayoutInflater#createView java.lang.reflect.Constructor#newInstance java.lang.reflect.Constructor#newInstance0 androidx.appcompat.widget.ViewStubCompat#<init> androidx.appcompat.widget.ViewStubCompat#<init> android.view.View#<init> android.view.View#<init> android.view.View#isRtlCompatibilityMode android.content.ContextWrapper#getApplicationInfo \n",
            "android.os.Handler#dispatchMessage android.os.Handler#handleCallback android.view.Choreographer$FrameDisplayEventReceiver#run android.view.Choreographer#doFrame android.view.Choreographer#doCallbacks android.view.Choreographer$CallbackRecord#run android.view.ViewRootImpl$TraversalRunnable#run android.view.ViewRootImpl#doTraversal android.view.ViewRootImpl#performTraversals android.view.ViewRootImpl#performMeasure android.view.View#measure com.android.internal.policy.DecorView#onMeasure android.widget.FrameLayout#onMeasure android.view.ViewGroup#measureChildWithMargins android.view.View#measure android.widget.LinearLayout#onMeasure android.widget.LinearLayout#measureVertical android.widget.LinearLayout#measureChildBeforeLayout android.view.ViewGroup#measureChildWithMargins android.view.View#measure android.widget.FrameLayout#onMeasure android.view.ViewGroup#measureChildWithMargins android.view.View#measure android.widget.FrameLayout#onMeasure android.view.ViewGroup#measureChildWithMargins android.view.View#measure androidx.appcompat.widget.ContentFrameLayout#onMeasure android.widget.FrameLayout#onMeasure android.view.ViewGroup#measureChildWithMargins android.view.View#measure androidx.appcompat.widget.AlertDialogLayout#onMeasure androidx.appcompat.widget.AlertDialogLayout#C android.view.View#measure android.widget.FrameLayout#onMeasure android.view.ViewGroup#measureChildWithMargins android.view.View#measure android.widget.ListView#onMeasure android.widget.ListView#measureHeightOfChildren android.widget.AbsListView#obtainView com.alphainventor.filemanager.widget.f#getView c.g.b.b#f android.content.Context#getDrawable android.content.res.Resources#getDrawable android.content.res.Resources#getDrawableForDensity android.content.res.ResourcesImpl#loadDrawable android.content.res.DrawableCache#getInstance android.graphics.drawable.Drawable$ConstantState#newDrawable android.graphics.drawable.VectorDrawable$VectorDrawableState#newDrawable android.graphics.drawable.VectorDrawable#<init> android.graphics.drawable.VectorDrawable#<init> android.graphics.Rect#<init> \n",
            "android.os.Handler#dispatchMessage android.os.Handler#handleCallback android.view.Choreographer$FrameDisplayEventReceiver#run android.view.Choreographer#doFrame android.view.Choreographer#doCallbacks android.view.Choreographer$CallbackRecord#run android.view.ViewRootImpl$TraversalRunnable#run android.view.ViewRootImpl#doTraversal android.view.ViewRootImpl#performTraversals android.view.ViewRootImpl#measureHierarchy android.view.ViewRootImpl#performMeasure android.view.View#measure com.android.internal.policy.DecorView#onMeasure android.widget.FrameLayout#onMeasure android.view.ViewGroup#measureChildWithMargins android.view.View#measure android.widget.LinearLayout#onMeasure android.widget.LinearLayout#measureVertical android.widget.LinearLayout#forceUniformWidth android.view.ViewGroup#measureChildWithMargins android.view.View#measure android.widget.FrameLayout#onMeasure android.view.ViewGroup#measureChildWithMargins android.view.View#measure android.widget.FrameLayout#onMeasure android.view.ViewGroup#measureChildWithMargins android.view.View#measure androidx.appcompat.widget.ContentFrameLayout#onMeasure android.widget.FrameLayout#onMeasure android.view.ViewGroup#measureChildWithMargins android.view.View#measure androidx.appcompat.widget.AlertDialogLayout#onMeasure androidx.appcompat.widget.AlertDialogLayout#C android.view.View#measure android.widget.FrameLayout#onMeasure android.view.ViewGroup#measureChildWithMargins android.view.View#measure android.widget.ListView#onMeasure android.widget.ListView#measureHeightOfChildren android.widget.AbsListView$RecycleBin#addScrapView android.view.View#notifyViewAccessibilityStateChangedIfNeeded \n",
            "android.os.Handler#dispatchMessage android.os.Handler#handleCallback androidx.fragment.app.m$d#run androidx.fragment.app.m#Q androidx.fragment.app.m#L0 androidx.fragment.app.m#T androidx.fragment.app.m#S androidx.fragment.app.a#A androidx.fragment.app.m#z0 androidx.fragment.app.m#y0 androidx.fragment.app.m#A0 androidx.fragment.app.m#B0 androidx.fragment.app.r#e androidx.fragment.app.Fragment#L1 androidx.fragment.app.c#k1 com.alphainventor.filemanager.r.f#E2 androidx.appcompat.app.d$a#a androidx.appcompat.app.d#<init> androidx.appcompat.app.i#<init> androidx.appcompat.app.i#a androidx.appcompat.app.g#h androidx.appcompat.app.h#<init> androidx.appcompat.app.h#<init> androidx.appcompat.app.h#M androidx.appcompat.widget.w0#h androidx.appcompat.widget.j#d androidx.appcompat.widget.m0#k c.g.b.b#f android.content.Context#getDrawable android.content.res.Resources#getDrawable android.content.res.Resources#getDrawableForDensity android.content.res.ResourcesImpl#loadDrawable android.content.res.ResourcesImpl#loadDrawableForCookie android.graphics.drawable.Drawable#createFromXmlForDensity android.graphics.drawable.Drawable#createFromXmlInnerForDensity android.content.res.XmlBlock$Parser#getName android.content.res.StringBlock#get android.content.res.StringBlock#nativeGetString \n",
            "android.os.Handler#dispatchMessage android.os.Handler#handleCallback androidx.fragment.app.m$d#run androidx.fragment.app.m#Q androidx.fragment.app.m#L0 androidx.fragment.app.m#T androidx.fragment.app.m#S androidx.fragment.app.a#A androidx.fragment.app.m#z0 androidx.fragment.app.m#y0 androidx.fragment.app.m#A0 androidx.fragment.app.m#B0 androidx.fragment.app.r#r androidx.fragment.app.Fragment#W1 androidx.fragment.app.c#x1 android.app.Dialog#show android.app.Dialog#dispatchOnCreate androidx.appcompat.app.d#onCreate androidx.appcompat.app.AlertController#f androidx.appcompat.app.i#setContentView androidx.appcompat.app.h#D android.view.LayoutInflater#inflate android.view.LayoutInflater#inflate android.view.LayoutInflater#inflate android.view.LayoutInflater#rInflateChildren android.view.LayoutInflater#rInflate android.view.LayoutInflater#rInflateChildren android.view.LayoutInflater#rInflate android.view.LayoutInflater#rInflateChildren android.view.LayoutInflater#rInflate androidx.core.widget.NestedScrollView#addView android.view.ViewGroup#addView androidx.core.widget.NestedScrollView#addView android.view.ViewGroup#addView android.view.ViewGroup#addViewInner android.view.View#setLayoutParams android.view.ViewGroup#resolveLayoutParams android.view.View#resolveLayoutParams android.view.View#getLayoutDirection android.content.ContextWrapper#getApplicationInfo android.content.ContextWrapper#getApplicationInfo android.content.ContextWrapper#getApplicationInfo android.app.ContextImpl#getApplicationInfo android.app.LoadedApk#getApplicationInfo \n",
            "android.os.Handler#dispatchMessage android.os.Handler#handleCallback android.view.Choreographer$FrameDisplayEventReceiver#run android.view.Choreographer#doFrame android.view.Choreographer#doCallbacks android.view.Choreographer$CallbackRecord#run android.view.ViewRootImpl$TraversalRunnable#run android.view.ViewRootImpl#doTraversal android.view.ViewRootImpl#performTraversals android.view.ViewRootImpl#performLayout android.view.ViewGroup#layout android.view.View#layout com.android.internal.policy.DecorView#onLayout android.widget.FrameLayout#onLayout android.widget.FrameLayout#layoutChildren android.view.ViewGroup#layout android.view.View#layout android.widget.LinearLayout#onLayout android.widget.LinearLayout#layoutVertical android.widget.LinearLayout#setChildFrame android.view.ViewGroup#layout android.view.View#layout android.widget.FrameLayout#onLayout android.widget.FrameLayout#layoutChildren android.view.ViewGroup#layout android.view.View#layout android.widget.FrameLayout#onLayout android.widget.FrameLayout#layoutChildren android.view.ViewGroup#layout android.view.View#layout android.widget.FrameLayout#onLayout android.widget.FrameLayout#layoutChildren android.view.ViewGroup#layout android.view.View#layout androidx.drawerlayout.widget.DrawerLayout#onLayout android.view.ViewGroup#layout android.view.View#layout androidx.constraintlayout.widget.ConstraintLayout#onLayout android.view.ViewGroup#layout android.view.View#layout android.widget.FrameLayout#onLayout android.widget.FrameLayout#layoutChildren android.view.ViewGroup#layout android.view.View#layout androidx.constraintlayout.widget.ConstraintLayout#onLayout android.view.ViewGroup#layout android.view.View#layout android.widget.RelativeLayout#onLayout android.view.ViewGroup#layout android.view.View#layout androidx.swiperefreshlayout.widget.SwipeRefreshLayout#onLayout android.view.ViewGroup#layout android.view.View#layout android.widget.AbsListView#onLayout android.widget.ListView#layoutChildren android.widget.ListView#fillFromTop android.widget.ListView#fillDown android.widget.ListView#makeAndAddView android.widget.ListView#setupChild android.view.ViewGroup#layout android.view.View#layout android.view.View#setFrame android.view.View#invalidate android.view.View#invalidateInternal android.view.ViewGroup#invalidateChild android.view.ViewGroup#onDescendantInvalidated android.view.ViewGroup#onDescendantInvalidated android.view.ViewGroup#onDescendantInvalidated android.view.ViewGroup#onDescendantInvalidated android.view.ViewGroup#onDescendantInvalidated android.view.ViewGroup#onDescendantInvalidated android.view.ViewGroup#onDescendantInvalidated \n",
            "android.os.Handler#dispatchMessage android.os.Handler#handleCallback androidx.fragment.app.m$d#run androidx.fragment.app.m#Q androidx.fragment.app.m#L0 androidx.fragment.app.m#T androidx.fragment.app.m#S androidx.fragment.app.a#A androidx.fragment.app.m#z0 androidx.fragment.app.m#y0 androidx.fragment.app.m#A0 androidx.fragment.app.m#B0 androidx.fragment.app.r#e androidx.fragment.app.Fragment#H1 com.alphainventor.filemanager.u.j#f1 android.view.LayoutInflater#inflate android.view.LayoutInflater#inflate android.view.LayoutInflater#inflate android.view.LayoutInflater#rInflateChildren android.view.LayoutInflater#rInflate android.view.LayoutInflater#parseInclude android.view.LayoutInflater#rInflateChildren android.view.LayoutInflater#rInflate android.view.LayoutInflater#rInflateChildren android.view.LayoutInflater#rInflate android.view.LayoutInflater#createViewFromTag android.view.LayoutInflater#createViewFromTag android.view.LayoutInflater#createView java.lang.reflect.Constructor#newInstance java.lang.reflect.Constructor#newInstance0 com.alphainventor.filemanager.widget.FileListView#<init> android.widget.ListView#<init> android.widget.ListView#<init> android.widget.ListView#<init> android.widget.AbsListView#<init> android.content.res.TypedArray#getDrawable android.content.res.TypedArray#getDrawableForDensity android.content.res.Resources#loadDrawable android.content.res.ResourcesImpl#loadDrawable android.content.res.DrawableCache#getInstance android.graphics.drawable.Drawable$ConstantState#newDrawable android.graphics.drawable.RippleDrawable$RippleState#newDrawable android.graphics.drawable.RippleDrawable#<init> android.graphics.drawable.RippleDrawable#<init> android.graphics.drawable.RippleDrawable$RippleState#<init> android.graphics.drawable.LayerDrawable$LayerState#<init> android.graphics.drawable.LayerDrawable$ChildDrawable#<init> android.graphics.drawable.ColorDrawable$ColorState#newDrawable android.graphics.drawable.ColorDrawable#<init> android.graphics.drawable.ColorDrawable#<init> android.graphics.Paint#<init> libcore.util.NativeAllocationRegistry#registerNativeAllocation sun.misc.Cleaner#create sun.misc.Cleaner#<init> java.lang.ref.PhantomReference#<init> \n",
            "android.os.Handler#dispatchMessage android.os.Handler#handleCallback androidx.fragment.app.m$d#run androidx.fragment.app.m#Q androidx.fragment.app.m#L0 androidx.fragment.app.m#T androidx.fragment.app.m#S androidx.fragment.app.a#A androidx.fragment.app.m#z0 androidx.fragment.app.m#y0 androidx.fragment.app.m#A0 androidx.fragment.app.m#B0 androidx.fragment.app.r#e androidx.fragment.app.Fragment#H1 com.alphainventor.filemanager.u.j#f1 android.view.LayoutInflater#inflate android.view.LayoutInflater#inflate android.view.LayoutInflater#inflate android.view.LayoutInflater#rInflateChildren android.view.LayoutInflater#rInflate android.view.LayoutInflater#createViewFromTag android.view.LayoutInflater#createViewFromTag android.view.LayoutInflater#createView java.lang.reflect.Constructor#newInstance java.lang.reflect.Constructor#newInstance0 com.alphainventor.filemanager.widget.PathBar#<init> com.alphainventor.filemanager.widget.PathBar#j android.view.LayoutInflater#inflate android.view.LayoutInflater#inflate android.view.LayoutInflater#rInflateChildren android.view.LayoutInflater#rInflate android.view.LayoutInflater#createViewFromTag android.view.LayoutInflater#createViewFromTag androidx.appcompat.app.h#onCreateView androidx.appcompat.app.h#U androidx.appcompat.app.k#createView androidx.appcompat.app.k#createTextView androidx.appcompat.widget.y#<init> androidx.appcompat.widget.y#<init> android.widget.TextView#<init> android.widget.TextView#<init> android.view.View#<init> android.view.View#<init> androidx.appcompat.app.e#getResources \n",
            "android.os.Handler#dispatchMessage android.os.Handler#handleCallback androidx.fragment.app.m$d#run androidx.fragment.app.m#Q androidx.fragment.app.m#L0 androidx.fragment.app.m#T androidx.fragment.app.m#S androidx.fragment.app.a#A androidx.fragment.app.m#z0 androidx.fragment.app.m#y0 androidx.fragment.app.m#A0 androidx.fragment.app.m#B0 androidx.fragment.app.r#r androidx.fragment.app.Fragment#W1 androidx.fragment.app.c#x1 android.app.Dialog#show android.view.WindowManagerImpl#addView android.view.WindowManagerGlobal#addView android.view.ViewRootImpl#setView android.view.ViewRootImpl#enableHardwareAcceleration android.view.ContextThemeWrapper#getResources \n",
            "android.os.Handler#dispatchMessage android.os.Handler#handleCallback androidx.fragment.app.m$d#run androidx.fragment.app.m#Q androidx.fragment.app.m#L0 androidx.fragment.app.m#T androidx.fragment.app.m#S androidx.fragment.app.a#A androidx.fragment.app.m#z0 androidx.fragment.app.m#y0 androidx.fragment.app.m#A0 androidx.fragment.app.m#B0 androidx.fragment.app.r#r androidx.fragment.app.Fragment#W1 androidx.fragment.app.c#x1 android.app.Dialog#show android.app.Dialog#dispatchOnCreate androidx.appcompat.app.d#onCreate androidx.appcompat.app.AlertController#f androidx.appcompat.app.i#setContentView androidx.appcompat.app.h#D android.view.LayoutInflater#inflate android.view.LayoutInflater#inflate android.view.LayoutInflater#inflate android.view.LayoutInflater#rInflateChildren android.view.LayoutInflater#rInflate android.view.LayoutInflater#rInflateChildren android.view.LayoutInflater#rInflate android.view.LayoutInflater#createViewFromTag android.view.LayoutInflater#createViewFromTag android.view.LayoutInflater#createView java.lang.reflect.Constructor#newInstance java.lang.reflect.Constructor#newInstance0 androidx.core.widget.NestedScrollView#<init> androidx.core.widget.NestedScrollView#<init> android.widget.FrameLayout#<init> android.widget.FrameLayout#<init> android.view.ViewGroup#<init> android.view.View#<init> android.view.View#<init> android.view.ViewConfiguration#get android.view.ContextThemeWrapper#getResources \n",
            "android.os.Handler#dispatchMessage android.os.Handler#handleCallback androidx.fragment.app.m$d#run androidx.fragment.app.m#Q androidx.fragment.app.m#L0 androidx.fragment.app.m#T androidx.fragment.app.m#S androidx.fragment.app.a#A androidx.fragment.app.m#z0 androidx.fragment.app.m#y0 androidx.fragment.app.m#A0 androidx.fragment.app.m#B0 androidx.fragment.app.r#r androidx.fragment.app.Fragment#W1 androidx.fragment.app.c#x1 android.app.Dialog#show android.app.Dialog#dispatchOnCreate androidx.appcompat.app.d#onCreate androidx.appcompat.app.AlertController#f androidx.appcompat.app.i#setContentView androidx.appcompat.app.h#D android.view.LayoutInflater#inflate android.view.LayoutInflater#inflate android.view.LayoutInflater#inflate android.view.LayoutInflater#rInflateChildren android.view.LayoutInflater#rInflate android.view.LayoutInflater#parseInclude android.view.LayoutInflater#createViewFromTag android.view.LayoutInflater#onCreateView com.android.internal.policy.PhoneLayoutInflater#onCreateView android.view.LayoutInflater#createView java.lang.reflect.Constructor#newInstance java.lang.reflect.Constructor#newInstance0 android.widget.ScrollView#<init> android.widget.ScrollView#<init> android.widget.ScrollView#<init> android.widget.FrameLayout#<init> android.view.ViewGroup#<init> android.view.View#<init> android.view.View#initializeScrollIndicatorsInternal android.content.Context#getDrawable android.content.res.Resources#getDrawable android.content.res.Resources#getDrawableForDensity android.content.res.ResourcesImpl#loadDrawable android.content.res.ResourcesImpl#loadDrawableForCookie android.graphics.drawable.Drawable#createFromXmlForDensity android.graphics.drawable.Drawable#createFromXmlInnerForDensity android.graphics.drawable.DrawableInflater#inflateFromXmlForDensity android.graphics.drawable.GradientDrawable#inflate android.graphics.drawable.GradientDrawable#inflateChildElements android.graphics.drawable.GradientDrawable#updateGradientDrawableSolid android.content.res.TypedArray#getColorStateList android.content.res.Resources#loadColorStateList android.content.res.ResourcesImpl#loadColorStateList android.content.res.ResourcesImpl#getColorStateListFromInt android.content.res.ColorStateList$ColorStateListFactory#newInstance \n",
            "android.os.Handler#dispatchMessage android.os.Handler#handleCallback android.view.Choreographer$FrameDisplayEventReceiver#run android.view.Choreographer#doFrame android.view.Choreographer#doCallbacks android.view.Choreographer$CallbackRecord#run android.view.ViewRootImpl$TraversalRunnable#run android.view.ViewRootImpl#doTraversal android.view.ViewRootImpl#performTraversals android.view.ViewRootImpl#performLayout android.view.ViewGroup#layout android.view.View#layout com.android.internal.policy.DecorView#onLayout android.widget.FrameLayout#onLayout android.widget.FrameLayout#layoutChildren android.view.ViewGroup#layout android.view.View#layout android.widget.LinearLayout#onLayout android.widget.LinearLayout#layoutVertical android.widget.LinearLayout#setChildFrame android.view.ViewGroup#layout android.view.View#layout android.widget.FrameLayout#onLayout android.widget.FrameLayout#layoutChildren android.view.ViewGroup#layout android.view.View#layout android.widget.FrameLayout#onLayout android.widget.FrameLayout#layoutChildren android.view.ViewGroup#layout android.view.View#layout android.widget.FrameLayout#onLayout android.widget.FrameLayout#layoutChildren android.view.ViewGroup#layout android.view.View#layout androidx.appcompat.widget.AlertDialogLayout#onLayout androidx.appcompat.widget.AlertDialogLayout#A android.view.ViewGroup#layout android.view.View#layout android.widget.FrameLayout#onLayout android.widget.FrameLayout#layoutChildren android.view.ViewGroup#layout android.view.View#layout android.widget.AbsListView#onLayout android.widget.ListView#layoutChildren android.widget.ListView#fillFromTop android.widget.ListView#fillDown android.widget.ListView#makeAndAddView android.widget.AbsListView#obtainView com.alphainventor.filemanager.widget.f#getView android.view.LayoutInflater#inflate android.view.LayoutInflater#inflate android.view.LayoutInflater#createViewFromTag android.view.LayoutInflater#createViewFromTag androidx.appcompat.app.h#onCreateView androidx.appcompat.app.h#U androidx.appcompat.app.k#createView androidx.appcompat.app.k#createTextView androidx.appcompat.widget.y#<init> androidx.appcompat.widget.y#<init> android.widget.TextView#<init> android.widget.TextView#<init> android.view.View#<init> android.content.res.TypedArray#getDimensionPixelSize android.util.TypedValue#complexToDimensionPixelSize \n",
            "android.os.Handler#dispatchMessage android.os.Handler#handleCallback androidx.fragment.app.m$d#run androidx.fragment.app.m#Q androidx.fragment.app.m#L0 androidx.fragment.app.m#T androidx.fragment.app.m#S androidx.fragment.app.a#A androidx.fragment.app.m#z0 androidx.fragment.app.m#y0 androidx.fragment.app.m#A0 androidx.fragment.app.m#B0 androidx.fragment.app.r#e androidx.fragment.app.Fragment#L1 androidx.fragment.app.c#k1 com.alphainventor.filemanager.r.f#E2 androidx.appcompat.app.d$a#a androidx.appcompat.app.AlertController$f#a androidx.appcompat.app.AlertController$f#b android.view.LayoutInflater#inflate android.view.LayoutInflater#inflate android.content.res.Resources#getLayout android.content.res.Resources#loadXmlResourceParser android.content.res.ResourcesImpl#loadXmlResourceParser android.content.res.AssetManager#openXmlBlockAsset java.lang.ref.FinalizerReference#add \n",
            "android.os.Handler#dispatchMessage android.os.Handler#handleCallback android.view.Choreographer$FrameDisplayEventReceiver#run android.view.Choreographer#doFrame android.view.Choreographer#doCallbacks android.view.Choreographer$CallbackRecord#run android.view.ViewRootImpl$TraversalRunnable#run android.view.ViewRootImpl#doTraversal android.view.ViewRootImpl#performTraversals android.view.ViewRootImpl#measureHierarchy android.view.ViewRootImpl#performMeasure android.view.View#measure com.android.internal.policy.DecorView#onMeasure android.widget.FrameLayout#onMeasure android.view.ViewGroup#measureChildWithMargins android.view.View#measure android.widget.LinearLayout#onMeasure android.widget.LinearLayout#measureVertical android.widget.LinearLayout#measureChildBeforeLayout android.view.ViewGroup#measureChildWithMargins android.view.View#measure android.widget.FrameLayout#onMeasure android.view.ViewGroup#measureChildWithMargins android.view.View#measure android.widget.FrameLayout#onMeasure android.view.ViewGroup#measureChildWithMargins android.view.View#measure androidx.appcompat.widget.ContentFrameLayout#onMeasure android.widget.FrameLayout#onMeasure android.view.ViewGroup#measureChildWithMargins android.view.View#measure androidx.drawerlayout.widget.DrawerLayout#onMeasure android.view.View#measure androidx.constraintlayout.widget.ConstraintLayout#onMeasure android.view.View#measure android.widget.FrameLayout#onMeasure android.view.ViewGroup#measureChildWithMargins android.view.View#measure android.widget.RelativeLayout#onMeasure android.widget.RelativeLayout$LayoutParams#getRules \n",
            "android.os.Handler#dispatchMessage android.os.Handler#handleCallback android.view.Choreographer$FrameDisplayEventReceiver#run android.view.Choreographer#doFrame android.view.Choreographer#doCallbacks android.view.Choreographer$CallbackRecord#run android.view.ViewRootImpl$TraversalRunnable#run android.view.ViewRootImpl#doTraversal android.view.ViewRootImpl#performTraversals android.view.ViewRootImpl#performLayout android.view.ViewGroup#layout android.view.View#layout com.android.internal.policy.DecorView#onLayout android.widget.FrameLayout#onLayout android.widget.FrameLayout#layoutChildren android.view.ViewGroup#layout android.view.View#layout android.widget.LinearLayout#onLayout android.widget.LinearLayout#layoutVertical android.widget.LinearLayout#setChildFrame android.view.ViewGroup#layout android.view.View#layout android.widget.FrameLayout#onLayout android.widget.FrameLayout#layoutChildren android.view.ViewGroup#layout android.view.View#layout android.widget.FrameLayout#onLayout android.widget.FrameLayout#layoutChildren android.view.ViewGroup#layout android.view.View#layout android.widget.FrameLayout#onLayout android.widget.FrameLayout#layoutChildren android.view.ViewGroup#layout android.view.View#layout androidx.drawerlayout.widget.DrawerLayout#onLayout android.view.ViewGroup#layout android.view.View#layout androidx.constraintlayout.widget.ConstraintLayout#onLayout android.view.ViewGroup#layout android.view.View#layout android.widget.FrameLayout#onLayout android.widget.FrameLayout#layoutChildren android.view.ViewGroup#layout android.view.View#layout androidx.constraintlayout.widget.ConstraintLayout#onLayout android.view.ViewGroup#layout android.view.View#layout android.widget.RelativeLayout#onLayout android.view.ViewGroup#layout android.view.View#layout androidx.swiperefreshlayout.widget.SwipeRefreshLayout#onLayout android.view.ViewGroup#layout android.view.View#layout android.widget.AbsListView#onLayout android.widget.ListView#layoutChildren android.widget.ListView#fillFromTop android.widget.ListView#fillDown android.widget.ListView#makeAndAddView android.widget.ListView#setupChild android.view.View#measure android.widget.LinearLayout#onMeasure android.widget.LinearLayout#measureVertical android.widget.LinearLayout#measureChildBeforeLayout android.view.ViewGroup#measureChildWithMargins android.view.View#measure android.widget.RelativeLayout#onMeasure android.widget.RelativeLayout#sortChildren android.view.ViewGroup#getChildCount \n",
            "android.os.Handler#dispatchMessage android.os.Handler#handleCallback androidx.fragment.app.m$d#run androidx.fragment.app.m#Q androidx.fragment.app.m#L0 androidx.fragment.app.m#T androidx.fragment.app.m#S androidx.fragment.app.a#A androidx.fragment.app.m#z0 androidx.fragment.app.m#y0 androidx.fragment.app.m#A0 androidx.fragment.app.m#B0 androidx.fragment.app.r#d androidx.fragment.app.Fragment#F1 androidx.lifecycle.h#i androidx.lifecycle.h#m androidx.lifecycle.h#q androidx.lifecycle.h#g androidx.lifecycle.h$b#a androidx.savedstate.Recreator#d androidx.lifecycle.h#c c.b.a.b.a#h c.b.a.b.b#h c.b.a.b.a#c java.util.HashMap#get java.util.HashMap#hash \n",
            "android.os.Handler#dispatchMessage android.os.Handler#handleCallback android.view.Choreographer$FrameDisplayEventReceiver#run android.view.Choreographer#doFrame android.view.Choreographer#doCallbacks android.view.Choreographer$CallbackRecord#run android.view.ViewRootImpl$TraversalRunnable#run android.view.ViewRootImpl#doTraversal android.view.ViewRootImpl#performTraversals android.view.ViewRootImpl#measureHierarchy android.view.ViewRootImpl#performMeasure android.view.View#measure com.android.internal.policy.DecorView#onMeasure android.widget.FrameLayout#onMeasure android.view.ViewGroup#measureChildWithMargins android.view.View#measure android.widget.LinearLayout#onMeasure android.widget.LinearLayout#measureVertical android.widget.LinearLayout#measureChildBeforeLayout android.view.ViewGroup#measureChildWithMargins android.view.View#measure android.widget.FrameLayout#onMeasure android.view.ViewGroup#measureChildWithMargins android.view.View#measure android.widget.FrameLayout#onMeasure android.view.ViewGroup#measureChildWithMargins android.view.View#measure androidx.appcompat.widget.ContentFrameLayout#onMeasure android.widget.FrameLayout#onMeasure android.view.ViewGroup#measureChildWithMargins android.view.View#measure androidx.appcompat.widget.AlertDialogLayout#onMeasure androidx.appcompat.widget.AlertDialogLayout#C android.view.View#measure android.widget.FrameLayout#onMeasure android.view.ViewGroup#measureChildWithMargins android.view.View#measure android.widget.ListView#onMeasure android.widget.ListView#measureHeightOfChildren android.widget.AbsListView#obtainView com.alphainventor.filemanager.widget.f#getView android.view.LayoutInflater#inflate android.view.LayoutInflater#inflate android.view.LayoutInflater#createViewFromTag android.view.LayoutInflater#createViewFromTag androidx.appcompat.app.h#onCreateView androidx.appcompat.app.h#U androidx.appcompat.app.k#createView androidx.appcompat.app.k#createTextView androidx.appcompat.widget.y#<init> androidx.appcompat.widget.y#<init> androidx.appcompat.widget.x#m androidx.appcompat.widget.z#t android.content.Context#obtainStyledAttributes android.content.res.Resources$Theme#obtainStyledAttributes android.content.res.ResourcesImpl$ThemeImpl#obtainStyledAttributes android.content.res.TypedArray#obtain android.util.Pools$SynchronizedPool#acquire \n",
            "android.os.Handler#dispatchMessage android.os.Handler#handleCallback androidx.fragment.app.m$d#run androidx.fragment.app.m#Q androidx.fragment.app.m#L0 androidx.fragment.app.m#T androidx.fragment.app.m#S androidx.fragment.app.a#A androidx.fragment.app.m#z0 androidx.fragment.app.m#y0 androidx.fragment.app.m#A0 androidx.fragment.app.m#B0 androidx.fragment.app.r#e androidx.fragment.app.Fragment#L1 androidx.fragment.app.c#k1 com.alphainventor.filemanager.r.f#E2 androidx.appcompat.app.d$a#a androidx.appcompat.app.AlertController$f#a androidx.appcompat.app.AlertController$f#b android.view.LayoutInflater#inflate android.view.LayoutInflater#inflate android.view.LayoutInflater#inflate android.view.LayoutInflater#createViewFromTag android.view.LayoutInflater#createViewFromTag android.view.LayoutInflater#createView java.lang.reflect.Constructor#newInstance java.lang.reflect.Constructor#newInstance0 androidx.appcompat.app.AlertController$RecycleListView#<init> android.widget.ListView#<init> android.widget.ListView#<init> android.widget.ListView#<init> android.widget.AbsListView#<init> android.widget.AbsListView#initAbsListView android.view.View#setClickable \n",
            "----------\n",
            "Mean callTime:\n",
            "28.526315789473685\n",
            "Mean TF:\n",
            "0.01864103531612753\n",
            "\n",
            "Cluster 2\n",
            "----------\n",
            "android.os.Handler#dispatchMessage android.os.Handler#handleCallback android.view.Choreographer$FrameDisplayEventReceiver#run android.view.Choreographer#doFrame android.view.Choreographer#doCallbacks android.view.Choreographer$CallbackRecord#run android.view.ViewRootImpl$TraversalRunnable#run android.view.ViewRootImpl#doTraversal android.view.ViewRootImpl#performTraversals android.view.ViewRootImpl#relayoutWindow android.view.IWindowSession$Stub$Proxy#relayout android.view.WindowManager$LayoutParams#writeToParcel android.text.TextUtils#writeToParcel android.os.Parcel#writeString \n",
            "android.os.Handler#dispatchMessage android.os.Handler#handleCallback android.widget.AbsListView$3#run android.widget.AbsListView$PerformClick#run android.widget.AbsListView#performItemClick android.widget.AdapterView#performItemClick com.alphainventor.filemanager.u.n$b#onItemClick com.alphainventor.filemanager.u.o#j4 com.alphainventor.filemanager.activity.MainActivity#A com.alphainventor.filemanager.activity.MainActivity#W1 com.alphainventor.filemanager.b#p com.alphainventor.filemanager.b$b#<init> com.alphainventor.filemanager.b$b#<init> android.os.Bundle#<init> android.os.BaseBundle#<init> android.os.BaseBundle#<init> android.util.ArrayMap#<init> android.util.ArrayMap#<init> java.lang.Object#<init> \n",
            "android.os.Handler#dispatchMessage android.os.Handler#handleCallback androidx.fragment.app.m$d#run androidx.fragment.app.m#Q androidx.fragment.app.m#L0 androidx.fragment.app.m#T androidx.fragment.app.m#S androidx.fragment.app.a#A androidx.fragment.app.m#z0 androidx.fragment.app.m#y0 androidx.fragment.app.m#A0 androidx.fragment.app.m#B0 androidx.fragment.app.r#e com.alphainventor.filemanager.u.j#z1 com.alphainventor.filemanager.u.j#i4 android.view.LayoutInflater#inflate android.view.LayoutInflater#inflate android.view.LayoutInflater#inflate android.content.res.XmlBlock$Parser#getName android.content.res.StringBlock#get android.content.res.StringBlock#nativeGetStyle \n",
            "android.os.Handler#dispatchMessage android.os.Handler#handleCallback android.view.Choreographer$FrameDisplayEventReceiver#run android.view.Choreographer#doFrame android.view.Choreographer#doCallbacks android.view.Choreographer$CallbackRecord#run android.view.ViewRootImpl$TraversalRunnable#run android.view.ViewRootImpl#doTraversal android.view.ViewRootImpl#performTraversals android.view.ViewRootImpl#measureHierarchy android.view.ViewRootImpl#performMeasure android.view.View#measure com.android.internal.policy.DecorView#onMeasure android.widget.FrameLayout#onMeasure android.view.ViewGroup#measureChildWithMargins android.view.View#measure android.widget.LinearLayout#onMeasure android.widget.LinearLayout#measureVertical android.widget.LinearLayout#getVirtualChildCount android.view.ViewGroup#getChildCount \n",
            "android.os.Handler#dispatchMessage android.os.Handler#handleCallback android.view.Choreographer$FrameDisplayEventReceiver#run android.view.Choreographer#doFrame android.view.Choreographer#doCallbacks android.view.Choreographer$CallbackRecord#run android.view.ViewRootImpl$TraversalRunnable#run android.view.ViewRootImpl#doTraversal android.view.ViewRootImpl#performTraversals android.view.ViewRootImpl#measureHierarchy android.view.ViewRootImpl#performMeasure android.view.View#measure com.android.internal.policy.DecorView#onMeasure android.widget.FrameLayout#onMeasure android.view.ViewGroup#measureChildWithMargins android.view.View#measure android.widget.LinearLayout#onMeasure android.widget.LinearLayout#measureVertical android.widget.LinearLayout#measureChildBeforeLayout android.view.ViewGroup#measureChildWithMargins android.view.View#measure android.widget.FrameLayout#onMeasure android.view.ViewGroup#measureChildWithMargins android.view.View#measure android.widget.FrameLayout#onMeasure android.view.ViewGroup#measureChildWithMargins android.view.View#measure androidx.appcompat.widget.ContentFrameLayout#onMeasure android.widget.FrameLayout#onMeasure android.view.ViewGroup#measureChildWithMargins android.view.View#measure androidx.drawerlayout.widget.DrawerLayout#onMeasure android.view.View#measure androidx.constraintlayout.widget.ConstraintLayout#onMeasure android.view.View#measure android.widget.FrameLayout#onMeasure android.view.ViewGroup#measureChildWithMargins android.view.View#measure androidx.appcompat.widget.Toolbar#onMeasure androidx.appcompat.widget.Toolbar#D android.view.View#measure android.widget.LinearLayout#onMeasure android.widget.LinearLayout#measureVertical android.widget.LinearLayout#measureChildBeforeLayout android.view.ViewGroup#measureChildWithMargins android.view.View#measure androidx.appcompat.widget.y#onMeasure android.widget.TextView#onMeasure android.text.BoringLayout#isBoring android.text.BoringLayout#hasAnyInterestingChars android.text.TextUtils#recycle \n",
            "android.os.Handler#dispatchMessage android.os.Handler#handleCallback androidx.fragment.app.m$d#run androidx.fragment.app.m#Q androidx.fragment.app.m#L0 androidx.fragment.app.m#T androidx.fragment.app.m#S androidx.fragment.app.a#A androidx.fragment.app.m#z0 androidx.fragment.app.m#y0 androidx.fragment.app.m#A0 androidx.fragment.app.m#B0 androidx.fragment.app.r#r androidx.fragment.app.Fragment#W1 androidx.fragment.app.c#x1 android.app.Dialog#show android.app.Dialog#dispatchOnCreate androidx.appcompat.app.d#onCreate androidx.appcompat.app.AlertController#f androidx.appcompat.app.i#setContentView androidx.appcompat.app.h#D android.view.LayoutInflater#inflate android.view.LayoutInflater#inflate android.view.LayoutInflater#inflate android.view.LayoutInflater#rInflateChildren android.view.LayoutInflater#rInflate android.view.LayoutInflater#parseInclude android.view.LayoutInflater#createViewFromTag android.view.LayoutInflater#onCreateView com.android.internal.policy.PhoneLayoutInflater#onCreateView android.view.LayoutInflater#createView java.lang.reflect.Constructor#newInstance java.lang.reflect.Constructor#newInstance0 android.widget.ScrollView#<init> android.widget.ScrollView#<init> android.widget.ScrollView#<init> android.widget.FrameLayout#<init> android.view.ViewGroup#<init> android.view.View#<init> android.view.View#initializeScrollbarsInternal android.content.res.TypedArray#getDrawable android.content.res.TypedArray#getDrawableForDensity android.content.res.Resources#loadDrawable android.content.res.ResourcesImpl#loadDrawable android.graphics.drawable.GradientDrawable#applyTheme android.content.res.Resources$Theme#resolveAttributes android.content.res.ResourcesImpl$ThemeImpl#resolveAttributes android.content.res.TypedArray#obtain android.content.res.TypedArray#resize dalvik.system.VMRuntime#getRuntime \n",
            "----------\n",
            "Mean callTime:\n",
            "9.833333333333334\n",
            "Mean TF:\n",
            "0.012161429829799286\n",
            "\n",
            "Cluster 3\n",
            "----------\n",
            "android.os.Handler#dispatchMessage android.os.Handler#handleCallback androidx.fragment.app.m$d#run androidx.fragment.app.m#Q androidx.fragment.app.m#L0 androidx.fragment.app.m#T androidx.fragment.app.m#S androidx.fragment.app.a#A androidx.fragment.app.m#z0 androidx.fragment.app.m#y0 androidx.fragment.app.m#A0 androidx.fragment.app.m#B0 androidx.fragment.app.r#r androidx.fragment.app.Fragment#W1 androidx.fragment.app.c#x1 android.app.Dialog#show android.app.Dialog#dispatchOnCreate androidx.appcompat.app.d#onCreate androidx.appcompat.app.AlertController#f androidx.appcompat.app.i#setContentView androidx.appcompat.app.h#D android.view.LayoutInflater#inflate android.view.LayoutInflater#inflate android.view.LayoutInflater#inflate android.view.LayoutInflater#rInflateChildren android.view.LayoutInflater#rInflate android.view.LayoutInflater#createViewFromTag android.view.LayoutInflater#createViewFromTag android.view.LayoutInflater#onCreateView com.android.internal.policy.PhoneLayoutInflater#onCreateView android.view.LayoutInflater#createView java.lang.reflect.Constructor#newInstance java.lang.reflect.Constructor#newInstance0 android.widget.FrameLayout#<init> android.widget.FrameLayout#<init> android.widget.FrameLayout#<init> android.view.ViewGroup#<init> android.view.View#<init> android.content.Context#obtainStyledAttributes \n",
            "android.os.Handler#dispatchMessage android.os.Handler#handleCallback android.view.Choreographer$FrameDisplayEventReceiver#run android.view.Choreographer#doFrame android.view.Choreographer#doCallbacks android.view.Choreographer$CallbackRecord#run android.view.ViewRootImpl$TraversalRunnable#run android.view.ViewRootImpl#doTraversal android.view.ViewRootImpl#performTraversals android.view.ViewRootImpl#measureHierarchy android.view.ViewRootImpl#performMeasure android.view.View#measure com.android.internal.policy.DecorView#onMeasure android.widget.FrameLayout#onMeasure android.view.ViewGroup#measureChildWithMargins android.view.View#measure android.widget.LinearLayout#onMeasure android.widget.LinearLayout#measureVertical android.widget.LinearLayout#measureChildBeforeLayout android.view.ViewGroup#measureChildWithMargins android.view.View#measure android.widget.FrameLayout#onMeasure android.view.ViewGroup#measureChildWithMargins android.view.View#measure android.widget.FrameLayout#onMeasure android.view.ViewGroup#measureChildWithMargins android.view.View#measure androidx.appcompat.widget.ContentFrameLayout#onMeasure android.widget.FrameLayout#onMeasure android.view.ViewGroup#measureChildWithMargins android.view.View#measure androidx.drawerlayout.widget.DrawerLayout#onMeasure android.view.View#measure androidx.constraintlayout.widget.ConstraintLayout#onMeasure androidx.constraintlayout.widget.ConstraintLayout#h android.view.View#measure android.widget.FrameLayout#onMeasure android.view.ViewGroup#measureChildWithMargins android.view.View#measure android.view.ViewGroup#resolveRtlPropertiesIfNeeded android.view.View#resolveRtlPropertiesIfNeeded android.view.ViewGroup#resolvePadding android.view.ViewGroup#resolvePadding android.view.View#isLayoutDirectionInherited \n",
            "android.os.Handler#dispatchMessage android.os.Handler#handleCallback androidx.fragment.app.m$d#run androidx.fragment.app.m#Q androidx.fragment.app.m#L0 androidx.fragment.app.m#T androidx.fragment.app.m#S androidx.fragment.app.a#A androidx.fragment.app.m#z0 androidx.fragment.app.m#y0 androidx.fragment.app.m#A0 androidx.fragment.app.m#B0 androidx.fragment.app.r#e androidx.fragment.app.Fragment#H1 com.alphainventor.filemanager.u.j#f1 android.view.LayoutInflater#inflate android.view.LayoutInflater#inflate android.view.LayoutInflater#inflate android.view.LayoutInflater#createViewFromTag android.view.LayoutInflater#createViewFromTag \n",
            "android.os.Handler#dispatchMessage android.os.Handler#handleCallback android.view.Choreographer$FrameDisplayEventReceiver#run android.view.Choreographer#doFrame android.view.Choreographer#doCallbacks android.view.Choreographer$CallbackRecord#run android.view.ViewRootImpl$TraversalRunnable#run android.view.ViewRootImpl#doTraversal android.view.ViewRootImpl#performTraversals android.view.ViewRootImpl#measureHierarchy android.view.ViewRootImpl#performMeasure android.view.View#measure com.android.internal.policy.DecorView#onMeasure android.widget.FrameLayout#onMeasure android.view.ViewGroup#measureChildWithMargins android.view.View#measure android.widget.LinearLayout#onMeasure android.widget.LinearLayout#measureVertical android.widget.LinearLayout#measureChildBeforeLayout android.view.ViewGroup#measureChildWithMargins android.view.View#measure android.widget.FrameLayout#onMeasure android.view.ViewGroup#measureChildWithMargins android.view.View#measure android.widget.FrameLayout#onMeasure android.view.ViewGroup#measureChildWithMargins android.view.View#measure androidx.appcompat.widget.ContentFrameLayout#onMeasure android.widget.FrameLayout#onMeasure android.view.ViewGroup#measureChildWithMargins android.view.View#measure androidx.drawerlayout.widget.DrawerLayout#onMeasure android.view.View#measure androidx.constraintlayout.widget.ConstraintLayout#onMeasure androidx.constraintlayout.widget.ConstraintLayout#h android.view.View#measure android.widget.FrameLayout#onMeasure android.view.ViewGroup#measureChildWithMargins android.view.View#measure androidx.constraintlayout.widget.ConstraintLayout#onMeasure androidx.constraintlayout.widget.ConstraintLayout#h c.e.a.j.f#y0 \n",
            "android.os.Handler#dispatchMessage android.os.Handler#handleCallback androidx.fragment.app.m$d#run androidx.fragment.app.m#Q androidx.fragment.app.m#L0 androidx.fragment.app.m#T androidx.fragment.app.u#C androidx.fragment.app.u#c androidx.fragment.app.u#b androidx.fragment.app.m#B0 androidx.fragment.app.r#b androidx.fragment.app.Fragment#C1 com.alphainventor.filemanager.u.f#Y0 com.alphainventor.filemanager.u.f#C3 com.alphainventor.filemanager.u.f#P3 com.alphainventor.filemanager.o.g#p android.view.Window#addFlags android.view.Window#setFlags com.android.internal.policy.PhoneWindow#dispatchWindowAttributesChanged android.view.Window#dispatchWindowAttributesChanged androidx.appcompat.view.g#onWindowAttributesChanged androidx.appcompat.view.g#onWindowAttributesChanged android.app.Activity#onWindowAttributesChanged android.view.WindowManagerImpl#updateViewLayout android.view.WindowManagerGlobal#updateViewLayout android.view.View#setLayoutParams android.view.ViewGroup#resolveLayoutParams android.view.ViewGroup#resolveLayoutParams android.view.ViewGroup#resolveLayoutParams android.view.ViewGroup#resolveLayoutParams android.view.ViewGroup#resolveLayoutParams android.view.ViewGroup#resolveLayoutParams android.view.ViewGroup#resolveLayoutParams android.view.ViewGroup#resolveLayoutParams android.view.ViewGroup#resolveLayoutParams android.view.ViewGroup#resolveLayoutParams android.view.ViewGroup#resolveLayoutParams android.view.ViewGroup#resolveLayoutParams android.view.ViewGroup#resolveLayoutParams android.view.ViewGroup#resolveLayoutParams android.view.ViewGroup#resolveLayoutParams android.view.View#resolveLayoutParams android.view.ViewGroup$MarginLayoutParams#resolveLayoutDirection android.view.ViewGroup$MarginLayoutParams#setLayoutDirection \n",
            "android.os.Handler#dispatchMessage android.os.Handler#handleCallback androidx.fragment.app.m$d#run androidx.fragment.app.m#Q androidx.fragment.app.m#L0 androidx.fragment.app.m#T androidx.fragment.app.m#S androidx.fragment.app.a#A androidx.fragment.app.m#z0 androidx.fragment.app.m#y0 androidx.fragment.app.m#A0 androidx.fragment.app.m#B0 androidx.fragment.app.r#r androidx.fragment.app.Fragment#W1 androidx.fragment.app.c#x1 android.app.Dialog#show android.app.Dialog#dispatchOnCreate androidx.appcompat.app.d#onCreate androidx.appcompat.app.AlertController#f androidx.appcompat.app.i#setContentView androidx.appcompat.app.h#D androidx.appcompat.app.h#Z androidx.appcompat.app.h#T android.view.LayoutInflater#inflate android.view.LayoutInflater#inflate android.view.LayoutInflater#inflate android.view.LayoutInflater#rInflateChildren android.view.LayoutInflater#rInflate android.view.LayoutInflater#parseInclude android.view.LayoutInflater#rInflate android.view.LayoutInflater#createViewFromTag android.view.LayoutInflater#createViewFromTag androidx.appcompat.app.h#onCreateView androidx.appcompat.app.h#U androidx.appcompat.app.k#createView androidx.appcompat.app.k#themifyContext android.content.Context#obtainStyledAttributes android.content.res.Resources$Theme#obtainStyledAttributes android.content.res.ResourcesImpl$ThemeImpl#obtainStyledAttributes \n",
            "android.os.Handler#dispatchMessage android.os.Handler#handleCallback androidx.fragment.app.m$d#run androidx.fragment.app.m#Q androidx.fragment.app.m#L0 androidx.fragment.app.m#T androidx.fragment.app.m#S androidx.fragment.app.a#A androidx.fragment.app.m#z0 androidx.fragment.app.m#y0 androidx.fragment.app.m#A0 androidx.fragment.app.m#B0 androidx.fragment.app.r#e androidx.fragment.app.Fragment#H1 com.alphainventor.filemanager.u.j#f1 android.view.LayoutInflater#inflate android.view.LayoutInflater#inflate android.view.LayoutInflater#inflate android.view.LayoutInflater#rInflateChildren android.view.LayoutInflater#rInflate android.view.LayoutInflater#parseInclude android.view.LayoutInflater#rInflateChildren android.view.LayoutInflater#rInflate android.view.LayoutInflater#rInflateChildren android.view.LayoutInflater#rInflate android.view.LayoutInflater#rInflateChildren android.view.LayoutInflater#rInflate android.view.LayoutInflater#createViewFromTag android.view.LayoutInflater#createViewFromTag android.view.LayoutInflater$FactoryMerger#onCreateView androidx.appcompat.app.h#onCreateView androidx.appcompat.app.h#U androidx.appcompat.app.k#createView androidx.appcompat.app.k#createTextView androidx.appcompat.widget.y#<init> androidx.appcompat.widget.y#<init> android.widget.TextView#<init> android.widget.TextView#<init> android.widget.TextView#readTextAppearance android.content.res.TypedArray#getColor android.content.res.Resources#loadColorStateList android.content.res.ResourcesImpl#loadColorStateList android.content.res.ResourcesImpl#loadComplexColorFromName android.content.res.ConfigurationBoundResourceCache#getInstance android.content.res.ThemedResourceCache#get android.util.LongSparseArray#get android.util.LongSparseArray#get android.util.ContainerHelpers#binarySearch \n",
            "android.os.Handler#dispatchMessage android.os.Handler#handleCallback android.view.Choreographer$FrameDisplayEventReceiver#run android.view.Choreographer#doFrame android.view.Choreographer#doCallbacks android.view.Choreographer$CallbackRecord#run android.view.ViewRootImpl$TraversalRunnable#run android.view.ViewRootImpl#doTraversal android.view.ViewRootImpl#performTraversals android.view.ViewRootImpl#performLayout android.view.ViewGroup#layout android.view.View#layout com.android.internal.policy.DecorView#onLayout android.widget.FrameLayout#onLayout android.widget.FrameLayout#layoutChildren android.view.ViewGroup#layout android.view.View#layout android.widget.LinearLayout#onLayout android.widget.LinearLayout#layoutVertical android.widget.LinearLayout#setChildFrame android.view.ViewGroup#layout android.view.View#layout android.widget.FrameLayout#onLayout android.widget.FrameLayout#layoutChildren android.view.ViewGroup#layout android.view.View#layout android.widget.FrameLayout#onLayout android.widget.FrameLayout#layoutChildren android.view.ViewGroup#layout android.view.View#layout android.widget.FrameLayout#onLayout android.widget.FrameLayout#layoutChildren android.view.ViewGroup#layout android.view.View#layout androidx.drawerlayout.widget.DrawerLayout#onLayout android.view.ViewGroup#layout android.view.View#layout androidx.constraintlayout.widget.ConstraintLayout#onLayout android.view.ViewGroup#layout android.view.View#layout android.widget.FrameLayout#onLayout android.widget.FrameLayout#layoutChildren android.view.ViewGroup#layout android.view.View#layout androidx.constraintlayout.widget.ConstraintLayout#onLayout android.view.ViewGroup#layout android.view.View#layout android.widget.RelativeLayout#onLayout android.view.ViewGroup#layout android.view.View#layout androidx.swiperefreshlayout.widget.SwipeRefreshLayout#onLayout android.view.ViewGroup#layout android.view.View#layout android.widget.AbsListView#onLayout android.widget.ListView#layoutChildren android.widget.ListView#fillFromTop android.widget.ListView#fillDown android.widget.ListView#makeAndAddView android.widget.ListView#setupChild android.view.ViewGroup#resolveRtlPropertiesIfNeeded android.view.View#resolveRtlPropertiesIfNeeded android.view.View#isPaddingResolved \n",
            "----------\n",
            "Mean callTime:\n",
            "73.125\n",
            "Mean TF:\n",
            "0.016167888268060183\n"
          ],
          "name": "stdout"
        }
      ]
    }
  ]
}